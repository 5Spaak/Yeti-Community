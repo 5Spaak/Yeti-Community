{
 "cells": [
  {
   "cell_type": "markdown",
   "id": "0d8095a1-4c38-4083-8960-4406d5ac15b5",
   "metadata": {},
   "source": [
    " # Introduction à la programmation avec Python "
   ]
  },
  {
   "cell_type": "markdown",
   "id": "2070fba9-8ec1-423a-bfb3-fc86c300f376",
   "metadata": {},
   "source": [
    "### Effectuer des opérations arithmétiques avec Python"
   ]
  },
  {
   "cell_type": "markdown",
   "id": "319e69d9-0d8f-4b68-8a65-d148fedb772a",
   "metadata": {},
   "source": [
    "Commençons par utiliser Python comme calculatrice. Vous pouvez écrire et exécuter Python en utilisant une cellule de code dans Jupyter.\n",
    "\n",
    "Travailler avec des cellules : Pour créer une nouvelle cellule dans Jupyter, vous pouvez sélectionner \"Insert > Insert Cell Below\" dans la barre de menu ou simplement appuyer sur le bouton \"+\" dans la barre d'outils. Vous pouvez également utiliser le raccourci clavier Esc+B pour créer une nouvelle cellule. Une fois la cellule créée, cliquez dessus pour la sélectionner. Vous pouvez ensuite changer le type de cellule en code ou en markdown (texte) en utilisant l'option de menu \"Cellule > Type de cellule\". Vous pouvez également utiliser les raccourcis clavier Esc+Y et Esc+M. Double-cliquez sur une cellule pour en modifier le contenu. Pour appliquer vos modifications et exécuter une cellule, utilisez l'option de menu \"Cellule > Exécuter les cellules\" ou cliquez sur le bouton \"Exécuter\" dans la barre d'outils ou utilisez simplement le raccourci clavier Maj+Entrée. Vous pouvez consulter la liste complète des raccourcis clavier en utilisant l'option de menu \"Aide > Raccourcis clavier\"."
   ]
  },
  {
   "cell_type": "code",
   "execution_count": 4,
   "id": "3c135b5c-68a5-4f56-849d-461aa7ec1103",
   "metadata": {
    "tags": []
   },
   "outputs": [
    {
     "data": {
      "text/plain": [
       "14"
      ]
     },
     "execution_count": 4,
     "metadata": {},
     "output_type": "execute_result"
    }
   ],
   "source": [
    "2+3+9"
   ]
  },
  {
   "cell_type": "code",
   "execution_count": 5,
   "id": "7d7e5cde-76e3-48d4-a8a0-997df5698ffa",
   "metadata": {
    "tags": []
   },
   "outputs": [
    {
     "data": {
      "text/plain": [
       "26"
      ]
     },
     "execution_count": 5,
     "metadata": {},
     "output_type": "execute_result"
    }
   ],
   "source": [
    "99-73"
   ]
  },
  {
   "cell_type": "code",
   "execution_count": 6,
   "id": "1fd4ee2e-2327-4690-bc1e-0fd499c07c65",
   "metadata": {
    "tags": []
   },
   "outputs": [
    {
     "data": {
      "text/plain": [
       "-32277.28"
      ]
     },
     "execution_count": 6,
     "metadata": {},
     "output_type": "execute_result"
    }
   ],
   "source": [
    "22.54 * -1432"
   ]
  },
  {
   "cell_type": "code",
   "execution_count": 8,
   "id": "7235d52c-60e7-4256-b218-3a28e4a4517d",
   "metadata": {
    "tags": []
   },
   "outputs": [
    {
     "data": {
      "text/plain": [
       "14.285714285714286"
      ]
     },
     "execution_count": 8,
     "metadata": {},
     "output_type": "execute_result"
    }
   ],
   "source": [
    "100/7"
   ]
  },
  {
   "cell_type": "code",
   "execution_count": 9,
   "id": "0a5f2975-3ebd-4c3a-b7d6-d024d01b6787",
   "metadata": {
    "tags": []
   },
   "outputs": [
    {
     "data": {
      "text/plain": [
       "14"
      ]
     },
     "execution_count": 9,
     "metadata": {},
     "output_type": "execute_result"
    }
   ],
   "source": [
    "100 // 7"
   ]
  },
  {
   "cell_type": "code",
   "execution_count": 10,
   "id": "98439b03-698a-4863-9314-78dc696bc928",
   "metadata": {
    "tags": []
   },
   "outputs": [
    {
     "data": {
      "text/plain": [
       "2"
      ]
     },
     "execution_count": 10,
     "metadata": {},
     "output_type": "execute_result"
    }
   ],
   "source": [
    "100 % 7"
   ]
  },
  {
   "cell_type": "code",
   "execution_count": 12,
   "id": "28aae093-ea9a-49e2-b4d5-d69df3514001",
   "metadata": {
    "tags": []
   },
   "outputs": [
    {
     "data": {
      "text/plain": [
       "25"
      ]
     },
     "execution_count": 12,
     "metadata": {},
     "output_type": "execute_result"
    }
   ],
   "source": [
    "5 ** 2"
   ]
  },
  {
   "cell_type": "markdown",
   "id": "a2d25d50-4a84-41e7-9480-79f721c38814",
   "metadata": {},
   "source": [
    "Comme vous pouvez vous y attendre, les opérateurs tels que / et * ont la priorité sur les autres opérateurs tels que + et -, conformément aux conventions mathématiques. Vous pouvez utiliser des parenthèses, c'est-à-dire ( et ), pour spécifier l'ordre dans lequel les opérations sont effectuées."
   ]
  },
  {
   "cell_type": "code",
   "execution_count": 13,
   "id": "8e25cc50-ffd1-4efa-aae3-7bde654a0d42",
   "metadata": {
    "tags": []
   },
   "outputs": [
    {
     "data": {
      "text/plain": [
       "1.53125"
      ]
     },
     "execution_count": 13,
     "metadata": {},
     "output_type": "execute_result"
    }
   ],
   "source": [
    "((2+5)*(17-3)) / (4**3)"
   ]
  },
  {
   "cell_type": "markdown",
   "id": "e0f38f4e-2df0-46e4-9964-ad579eec3ccc",
   "metadata": {},
   "source": [
    "Python supports the following arithmetic operators:\n",
    "\n",
    "| Operator   | Purpose           | Example     | Result    |\n",
    "|------------|-------------------|-------------|-----------|\n",
    "| `+`        | Addition          | `2 + 3`     | `5`       |\n",
    "| `-`        | Subtraction       | `3 - 2`     | `1`       |\n",
    "| `*`        | Multiplication    | `8 * 12`    | `96`      |\n",
    "| `/`        | Division          | `100 / 7`   | `14.28..` |\n",
    "| `//`       | Floor Division    | `100 // 7`  | `14`      |    \n",
    "| `%`        | Modulus/Remainder | `100 % 7`   | `2`       |\n",
    "| `**`       | Exponent          | `5 ** 3`    | `125`     |\n",
    "\n",
    "\n",
    "Try solving some simple problems from this page:\n",
    "https://www.math-only-math.com/worksheet-on-word-problems-on-four-operations.html . \n",
    "\n",
    "You can use the empty cells below and add more cells if required."
   ]
  },
  {
   "cell_type": "markdown",
   "id": "2c000fde-0128-472d-bd41-0aad243fd462",
   "metadata": {},
   "source": [
    "#### Exercices d'application"
   ]
  },
  {
   "cell_type": "markdown",
   "id": "eacb3ac6-eefe-4c8f-987d-8684eb7f057d",
   "metadata": {
    "tags": []
   },
   "source": [
    "Entraînez-vous à répondre aux questions de la feuille de travail sur les problèmes de mots concernant quatre opérations : l'addition (+), la soustraction (-), la multiplication (×) et la division (÷).\n",
    "\n",
    "\n",
    "\n",
    "Résolvez les problèmes suivants :\n",
    "\n",
    "1. La population d'une ville est de 198568 habitants. Parmi eux, 45312 sont des hommes et 35678 des femmes. Trouvez le nombre d'enfants dans la ville.\n",
    "\n",
    "2. Un commerçant possède 2425 boîtes de 24 crayons chacune. Combien de crayons y a-t-il dans toutes les boîtes ?\n",
    "\n",
    "3. Linda a acheté un manteau pour 2265 $ et un saree pour 2150 $. Elle a donné 5000 $ au commerçant. Combien d'argent le commerçant lui a-t-il rendu ?\n",
    "\n",
    "4. Le coût de 21 téléviseurs est de 95844 $. Trouvez le coût d'un téléviseur.\n",
    "\n",
    "5. Une usine produit 24532 ampoules en un mois. Quelle est sa production annuelle ?\n",
    "\n",
    "6. Il y a 145968 sacs de sucre, 236487 sacs de blé et quelques sacs de riz dans un entrepôt. Si le nombre total de sacs dans l'entrepôt est de 450000, trouver le nombre de sacs de riz.\n",
    "\n",
    "7. Une usine a fabriqué 483685 jouets en trois semaines. La production de la première semaine était de 146345 jouets et celle de la deuxième semaine de 138152 jouets. Trouvez la production de la troisième semaine.\n",
    "\n",
    "8. Le coût d'un ensemble de canapé est de 9372 $. Combien coûteront 124 canapés de ce type ?\n",
    "\n",
    "9. Il y a 86 salles dans une école. 4386 étudiants y étudient. Un nombre égal d'étudiants s'assoit dans chaque salle ?\n",
    "\n",
    "10. 1575 élèves d'une école veulent se rendre à Agra en bus. Si un bus peut transporter 75 élèves, combien de bus faut-il pour transporter tous les élèves ?\n",
    "\n",
    "11. Le coût d'un poste de radio est de 1475. Quel est le coût de 35 postes de radio ?\n",
    "\n",
    "12. Lors d'une élection, 52496 personnes ont voté pour Ron, 44929 pour Jhon et 36824 pour Mike dans une ville. Si tout le monde a voté dans la ville, quel est le nombre total d'électeurs ?\n",
    "\n",
    "13. Maria a acheté 96 jouets à prix égal pour un montant de 12960 $. Il lui reste un montant de 1015 $. Trouvez le coût de chaque jouet et le montant qu'il lui restait."
   ]
  },
  {
   "cell_type": "markdown",
   "id": "bd6618b9-02a6-40e6-a378-d6301bb930b2",
   "metadata": {},
   "source": [
    "#### Solutions"
   ]
  },
  {
   "cell_type": "markdown",
   "id": "982bd99e-d3ad-4064-9684-06ffe1ace837",
   "metadata": {},
   "source": [
    "1. La population d'une ville est de 198568 habitants. Parmi eux, 45312 sont des hommes et 35678 des femmes. Trouvez le nombre d'enfants dans la ville."
   ]
  },
  {
   "cell_type": "code",
   "execution_count": 15,
   "id": "68d618f5-fe41-4253-ba32-b443c08c7ad0",
   "metadata": {
    "tags": []
   },
   "outputs": [],
   "source": [
    "nbHommes = 45312\n",
    "nbFemmes = 35678\n",
    "nbTotal = 198568"
   ]
  },
  {
   "cell_type": "code",
   "execution_count": 16,
   "id": "75ab0b73-2331-47f9-8534-ae12f124906c",
   "metadata": {
    "tags": []
   },
   "outputs": [
    {
     "name": "stdout",
     "output_type": "stream",
     "text": [
      "Le nombre d'enfants dans la ville est 117578\n"
     ]
    }
   ],
   "source": [
    "# Le nombre d'enfants dans la villes\n",
    "nbEnfants = nbTotal - (nbHommes + nbFemmes)\n",
    "print(\"Le nombre d'enfants dans la ville est {}\".format(nbEnfants))"
   ]
  },
  {
   "cell_type": "markdown",
   "id": "2320c927-ffe8-4a54-9f03-844467ce3f5b",
   "metadata": {},
   "source": [
    "2. Un commerçant possède 2425 boîtes de 24 crayons chacune. Combien de crayons y a-t-il dans toutes les boîtes ?"
   ]
  },
  {
   "cell_type": "code",
   "execution_count": 17,
   "id": "ab856d4d-65db-4234-96e2-d8d8b5efecd8",
   "metadata": {
    "tags": []
   },
   "outputs": [
    {
     "name": "stdout",
     "output_type": "stream",
     "text": [
      "Le nombre de crayons dans toutes les boîtes est 58200\n"
     ]
    }
   ],
   "source": [
    "boites = 2425\n",
    "nbDeCrayonsParBoite = 24\n",
    "nbCrayons = boites * nbDeCrayonsParBoite\n",
    "print(\"Le nombre de crayons dans toutes les boîtes est {}\".format(nbCrayons))"
   ]
  },
  {
   "cell_type": "markdown",
   "id": "f7f229ba-639b-4826-9a6d-a9db8c8a01a7",
   "metadata": {},
   "source": [
    "### Résoudre des problèmes à plusieurs étapes en utilisant des variables"
   ]
  },
  {
   "cell_type": "markdown",
   "id": "4d9d9279-bee3-4a12-acc6-1701d5ceb652",
   "metadata": {},
   "source": [
    "Essayons de résoudre le problème suivant à l'aide de Python : \n",
    "\n",
    "> Une épicerie vend un sac de glace à 1,25 $ et réalise un bénéfice de 20 %. Si elle vend 500 sacs de glace, quel est son bénéfice total ?\n",
    "\n",
    "Nous pouvons énumérer les informations fournies et convertir progressivement le problème en une expression mathématique qui peut être évaluée à l'aide de Python. \n",
    "\n",
    "*Coût du sac de glace ($)* = 1,25\n",
    "\n",
    "*Marge bénéficiaire* = 20 % = 0,2\n",
    "\n",
    "*Bénéfice par sac ($)* = marge bénéficiaire * coût du sac de glace = 0,2 * 1,25\n",
    "\n",
    "*Nombre de sacs* = 500\n",
    "\n",
    "*Bénéfice total = nombre de sacs * bénéfice par sac = 500 * (.2 * 1.25)"
   ]
  },
  {
   "cell_type": "code",
   "execution_count": 18,
   "id": "64d60b45-ae90-4f49-8a9a-55735dfe9009",
   "metadata": {
    "tags": []
   },
   "outputs": [
    {
     "data": {
      "text/plain": [
       "125.0"
      ]
     },
     "execution_count": 18,
     "metadata": {},
     "output_type": "execute_result"
    }
   ],
   "source": [
    "500 * (.2 * 1.25)"
   ]
  },
  {
   "cell_type": "markdown",
   "id": "0660ebcc-6f33-491e-bad4-8e8f0f67980f",
   "metadata": {},
   "source": [
    "L'épicerie réalise donc un bénéfice total de 125 $. Bien qu'il s'agisse d'une manière raisonnable de résoudre un problème, il n'est pas tout à fait clair, en regardant la cellule de code, de savoir ce que les nombres représentent. Nous pouvons donner un nom à chacun des nombres en créant des *variables* Python.\n",
    "\n",
    "> **Variables** : Lorsque l'on travaille avec un langage de programmation tel que Python, les informations sont stockées dans des *variables*. Vous pouvez considérer les variables comme des conteneurs de stockage de données. Les données stockées dans une variable sont appelées sa *valeur*."
   ]
  },
  {
   "cell_type": "code",
   "execution_count": 22,
   "id": "ba3bb8ba-32fe-41fc-b808-1a569b4cb4dc",
   "metadata": {
    "tags": []
   },
   "outputs": [],
   "source": [
    "cost_of_ice_bag = 1.25"
   ]
  },
  {
   "cell_type": "code",
   "execution_count": 23,
   "id": "54b6fd90-2fae-4774-9bb6-5209b2b9f86e",
   "metadata": {
    "tags": []
   },
   "outputs": [],
   "source": [
    "profit_margin = .2"
   ]
  },
  {
   "cell_type": "code",
   "execution_count": 24,
   "id": "d2bb939d-28c3-4c51-9c9b-2c6393468834",
   "metadata": {
    "tags": []
   },
   "outputs": [],
   "source": [
    "number_of_bags = 500"
   ]
  },
  {
   "cell_type": "markdown",
   "id": "f83c49f5-f04f-4614-967f-08a573c91a03",
   "metadata": {},
   "source": [
    "Les variables `cost_of_ice_bag`, `profit_margin`, et `number_of_bags` contiennent maintenant les informations fournies dans le problème. Nous pouvons vérifier la valeur d'une variable en tapant son nom dans une cellule. Nous pouvons combiner des variables à l'aide d'opérations arithmétiques pour créer d'autres variables.\n",
    "\n",
    "**Complétion de code** : Lorsque vous tapez le nom d'une variable existante dans une cellule de code dans Jupyter, il vous suffit de taper les premiers caractères et d'appuyer sur la touche \"Tab\" pour compléter automatiquement le nom de la variable. Essayez de taper `pro` dans une cellule de code ci-dessous et appuyez sur `Tab` pour compléter automatiquement `profit_margin`."
   ]
  },
  {
   "cell_type": "code",
   "execution_count": 25,
   "id": "79596acf-bb05-47eb-af7d-694f0056eab2",
   "metadata": {
    "tags": []
   },
   "outputs": [
    {
     "data": {
      "text/plain": [
       "0.2"
      ]
     },
     "execution_count": 25,
     "metadata": {},
     "output_type": "execute_result"
    }
   ],
   "source": [
    "profit_margin"
   ]
  },
  {
   "cell_type": "code",
   "execution_count": 27,
   "id": "690057d1-1e4b-4618-af17-3681d189478e",
   "metadata": {
    "tags": []
   },
   "outputs": [],
   "source": [
    "profit_per_bag = cost_of_ice_bag * profit_margin"
   ]
  },
  {
   "cell_type": "code",
   "execution_count": 28,
   "id": "aff604a1-a845-4f89-b48d-b1958cf02d5d",
   "metadata": {
    "tags": []
   },
   "outputs": [
    {
     "data": {
      "text/plain": [
       "0.25"
      ]
     },
     "execution_count": 28,
     "metadata": {},
     "output_type": "execute_result"
    }
   ],
   "source": [
    "profit_per_bag"
   ]
  },
  {
   "cell_type": "code",
   "execution_count": 29,
   "id": "34c824b9-638d-4260-93e2-9a6daab740c7",
   "metadata": {
    "tags": []
   },
   "outputs": [],
   "source": [
    "total_profit = number_of_bags * profit_per_bag"
   ]
  },
  {
   "cell_type": "code",
   "execution_count": 30,
   "id": "a350f14a-b38f-454f-a22b-7ff4fd3d68cf",
   "metadata": {
    "tags": []
   },
   "outputs": [
    {
     "data": {
      "text/plain": [
       "125.0"
      ]
     },
     "execution_count": 30,
     "metadata": {},
     "output_type": "execute_result"
    }
   ],
   "source": [
    "total_profit"
   ]
  },
  {
   "cell_type": "markdown",
   "id": "c89bcbcc-2271-4a47-b35b-5915ad583f60",
   "metadata": {},
   "source": [
    "> Si vous essayez d'afficher la valeur d'une variable qui n'a pas été définie, c'est-à-dire à laquelle on a donné une valeur à l'aide de l'instruction d'affectation nom_variable = valeur, Python affiche une erreur."
   ]
  },
  {
   "cell_type": "code",
   "execution_count": 31,
   "id": "ec0c0cff-641b-471c-8f21-e6326b385899",
   "metadata": {
    "tags": []
   },
   "outputs": [
    {
     "ename": "NameError",
     "evalue": "name 'net_profit' is not defined",
     "output_type": "error",
     "traceback": [
      "\u001b[1;31m---------------------------------------------------------------------------\u001b[0m",
      "\u001b[1;31mNameError\u001b[0m                                 Traceback (most recent call last)",
      "Cell \u001b[1;32mIn[31], line 1\u001b[0m\n\u001b[1;32m----> 1\u001b[0m \u001b[43mnet_profit\u001b[49m\n",
      "\u001b[1;31mNameError\u001b[0m: name 'net_profit' is not defined"
     ]
    }
   ],
   "source": [
    "net_profit"
   ]
  },
  {
   "cell_type": "markdown",
   "id": "8050a47e-79ec-41b7-be10-6c7997954f43",
   "metadata": {},
   "source": [
    "Stocker et manipuler des données à l'aide de variables correctement nommées est un excellent moyen d'expliquer ce que fait votre code.\n",
    "\n",
    "Affichons le résultat du problème de mots à l'aide d'un message convivial. Nous pouvons le faire en utilisant la *fonction `print`.\n",
    "\n",
    "**Fonctions** : Une fonction est un ensemble d'instructions réutilisables. Elle prend une ou plusieurs entrées, effectue certaines opérations et renvoie souvent une sortie. Python fournit de nombreuses fonctions intégrées comme `print` et nous permet également de définir nos propres fonctions."
   ]
  },
  {
   "cell_type": "code",
   "execution_count": 32,
   "id": "c46a6942-c737-4a58-a24b-3b4e35db4fa2",
   "metadata": {
    "tags": []
   },
   "outputs": [
    {
     "name": "stdout",
     "output_type": "stream",
     "text": [
      "L'épicerie réalise un bénéfice total de $ 125.0\n"
     ]
    }
   ],
   "source": [
    "print(\"L'épicerie réalise un bénéfice total de $\", total_profit)"
   ]
  },
  {
   "cell_type": "markdown",
   "id": "1abda0b8-cb08-41cc-afe5-75a6c81cd57f",
   "metadata": {},
   "source": [
    "> **`print`** : La fonction `print` est utilisée pour afficher des informations. Elle prend une ou plusieurs entrées, qui peuvent être du texte (entre guillemets, par exemple, \"ceci est du texte\"), des nombres, des variables, des expressions mathématiques, etc. Nous en apprendrons plus sur les variables et les fonctions dans le prochain tutoriel.\n",
    "\n",
    "Créer une cellule de code pour chaque variable ou opération mathématique peut s'avérer fastidieux. Heureusement, Jupyter vous permet d'écrire plusieurs lignes de code dans une seule cellule de code. Le résultat de la dernière ligne de code dans la cellule est affiché en sortie. \n",
    "\n",
    "Réécrivons la solution de notre problème de mots dans une seule cellule."
   ]
  },
  {
   "cell_type": "code",
   "execution_count": 33,
   "id": "9049e04a-5c8b-4639-a937-98a78adc3714",
   "metadata": {
    "tags": []
   },
   "outputs": [
    {
     "name": "stdout",
     "output_type": "stream",
     "text": [
      "L'épicerie réalise un bénéfice total de $ 125.0\n"
     ]
    }
   ],
   "source": [
    "# Stocker les données d'entrée dans les variables\n",
    "cost_of_ice_bag = 1.25\n",
    "profit_margin = .2\n",
    "number_of_bags = 500\n",
    "\n",
    "# Effectuer les calculs nécessaires\n",
    "profit_per_bag = cost_of_ice_bag * profit_margin\n",
    "total_profit = number_of_bags * profit_per_bag\n",
    "\n",
    "# Afficher le résultat\n",
    "print(\"L'épicerie réalise un bénéfice total de $\", total_profit)"
   ]
  },
  {
   "cell_type": "markdown",
   "id": "f804f2d9-939f-4ac8-a420-cf5f087981a1",
   "metadata": {},
   "source": [
    "Notez que nous utilisons le caractère `#` pour ajouter des *commentaires* dans notre code. \n",
    "\n",
    "**Commentaires** : Les commentaires et les lignes vides sont ignorés lors de l'exécution, mais ils sont utiles pour fournir des informations aux humains (y compris vous-même) sur ce que fait le code. Les commentaires peuvent être en ligne (à la fin du code), sur une ligne séparée, ou même s'étendre sur plusieurs lignes. \n",
    "\n",
    "Les commentaires en ligne et sur une seule ligne commencent par `#`, tandis que les commentaires sur plusieurs lignes commencent et se terminent par trois guillemets, c'est-à-dire `\"\"\"`. Voici quelques exemples de commentaires de code :"
   ]
  },
  {
   "cell_type": "code",
   "execution_count": null,
   "id": "b2c49352-1daf-41d0-b253-af8027d71eb6",
   "metadata": {
    "tags": []
   },
   "outputs": [],
   "source": [
    "my_favorite_number = 1 # un commentaire en ligne"
   ]
  },
  {
   "cell_type": "code",
   "execution_count": null,
   "id": "da2194df-184c-4a98-86d9-e6a1eec5c849",
   "metadata": {
    "tags": []
   },
   "outputs": [],
   "source": [
    "# Ce commentaire a sa propre ligne\n",
    "my_least_favorite_number = 3"
   ]
  },
  {
   "cell_type": "code",
   "execution_count": null,
   "id": "72172bc4-461c-48a8-92c7-c030a2b9fcd9",
   "metadata": {
    "tags": []
   },
   "outputs": [],
   "source": [
    "\"\"\"Il s'agit d'un commentaire de plusieurs lignes.\n",
    "Écrivez-en aussi peu ou autant que vous le souhaitez.\n",
    "\n",
    "Les commentaires sont très utiles pour les personnes qui lisent votre code, mais essayez de les garder courts et précis.\n",
    "lire votre code, mais essayez de les garder courts et précis.\n",
    "\n",
    "De plus, si vous utilisez de bons noms de variables, votre code est souvent auto-explicatif.\n",
    "souvent explicite, et vous n'aurez peut-être même pas besoin de commentaires !\n",
    "\"\"\"\n",
    "a_nombre_neutre = 5"
   ]
  },
  {
   "cell_type": "markdown",
   "id": "a55af83d-a014-45cb-943b-fdc19764d6fa",
   "metadata": {},
   "source": [
    "> **EXERCICE** : Une compagnie de voyage veut faire voler un avion vers les Bahamas. Le vol de l'avion coûte 5000 dollars. Jusqu'à présent, 29 personnes se sont inscrites pour le voyage. Si la compagnie facture 200 dollars par billet, quel est le bénéfice réalisé par la compagnie ? Créez des variables pour chaque quantité numérique et utilisez les opérations arithmétiques appropriées."
   ]
  },
  {
   "cell_type": "code",
   "execution_count": 39,
   "id": "79b1b39d-9bf3-472b-a3da-deba90f7cc40",
   "metadata": {},
   "outputs": [
    {
     "data": {
      "text/plain": [
       "True"
      ]
     },
     "execution_count": 39,
     "metadata": {},
     "output_type": "execute_result"
    }
   ],
   "source": [
    "spaak = 2\n",
    "jobrigh = 2\n",
    "spaak >=jobrigh"
   ]
  },
  {
   "cell_type": "markdown",
   "id": "c0dd58b0-5612-4503-bf48-bb761641ca74",
   "metadata": {},
   "source": [
    "## Evaluating conditions using Python\n",
    "\n",
    "Apart from arithmetic operations, Python also provides several operations for comparing numbers & variables.\n",
    "\n",
    "| Operator    | Description                                                                  |\n",
    "|-------------|------------------------------------------------------------------------------|\n",
    "| `==`        | Vérifier si les opérandes sont égaux                                         |\n",
    "| `!=`        | Vérifier si les opérandes ne sont pas égaux                                  |\n",
    "| `>`         | Vérifier si l'opérande gauche est plus grand que l'opérande droit            |\n",
    "| `<`         | Vérifier si l'opérande gauche est inférieur à l'opérande droit               |\n",
    "| `>=`        | Vérifier si l'opérande de gauche est supérieur ou égal à l'opérande de droite|\n",
    "| `<=`        |vérifie si l'opérande gauche est inférieur ou égal à l'opérande droit         |\n",
    "\n",
    "Le résultat d'une opération de comparaison est soit `True`, soit `False` (notez les `T` et `F` en majuscules). Ce sont des mots-clés spéciaux en Python. Faisons quelques expériences avec les opérateurs de comparaison."
   ]
  },
  {
   "cell_type": "markdown",
   "id": "2df180b8-7494-4f03-adc7-dc4942bd7220",
   "metadata": {},
   "source": [
    "### Python Operators\n",
    "\n",
    "![](https://i.imgur.com/gvSnw4A.png)\n",
    "\n"
   ]
  },
  {
   "cell_type": "code",
   "execution_count": 41,
   "id": "d9f3b079-1eae-49ed-bdb0-53fa45fb30f8",
   "metadata": {
    "tags": []
   },
   "outputs": [],
   "source": [
    "my_favorite_number = 1\n",
    "my_least_favorite_number = 5\n",
    "a_neutral_number = 3"
   ]
  },
  {
   "cell_type": "code",
   "execution_count": 42,
   "id": "736c6b3d-8af7-499e-baaf-7d79603b3461",
   "metadata": {
    "tags": []
   },
   "outputs": [
    {
     "data": {
      "text/plain": [
       "True"
      ]
     },
     "execution_count": 42,
     "metadata": {},
     "output_type": "execute_result"
    }
   ],
   "source": [
    "# Equality check - True\n",
    "my_favorite_number == 1"
   ]
  },
  {
   "cell_type": "code",
   "execution_count": 43,
   "id": "e5cc46e9-2d15-49c9-801a-8bef74412b23",
   "metadata": {
    "tags": []
   },
   "outputs": [
    {
     "data": {
      "text/plain": [
       "False"
      ]
     },
     "execution_count": 43,
     "metadata": {},
     "output_type": "execute_result"
    }
   ],
   "source": [
    "# Equality check - False\n",
    "my_favorite_number == my_least_favorite_number"
   ]
  },
  {
   "cell_type": "code",
   "execution_count": 44,
   "id": "7463ad8c-6d92-4406-a592-95ce2ee8ab87",
   "metadata": {
    "tags": []
   },
   "outputs": [
    {
     "data": {
      "text/plain": [
       "True"
      ]
     },
     "execution_count": 44,
     "metadata": {},
     "output_type": "execute_result"
    }
   ],
   "source": [
    "# Not equal check - True\n",
    "my_favorite_number != a_neutral_number"
   ]
  },
  {
   "cell_type": "code",
   "execution_count": 45,
   "id": "41709199-4ca2-4641-b104-fcb570d31d74",
   "metadata": {
    "tags": []
   },
   "outputs": [
    {
     "data": {
      "text/plain": [
       "True"
      ]
     },
     "execution_count": 45,
     "metadata": {},
     "output_type": "execute_result"
    }
   ],
   "source": [
    "# Greater than check - True\n",
    "my_least_favorite_number > a_neutral_number"
   ]
  },
  {
   "cell_type": "code",
   "execution_count": 46,
   "id": "9079c68a-e789-4b23-b247-2581e0b4b57a",
   "metadata": {
    "tags": []
   },
   "outputs": [
    {
     "data": {
      "text/plain": [
       "False"
      ]
     },
     "execution_count": 46,
     "metadata": {},
     "output_type": "execute_result"
    }
   ],
   "source": [
    "# Greater than check - False\n",
    "my_favorite_number > my_least_favorite_number"
   ]
  },
  {
   "cell_type": "code",
   "execution_count": 47,
   "id": "c4c32e91-2664-4f4c-9b03-fed661274a6b",
   "metadata": {
    "tags": []
   },
   "outputs": [
    {
     "data": {
      "text/plain": [
       "True"
      ]
     },
     "execution_count": 47,
     "metadata": {},
     "output_type": "execute_result"
    }
   ],
   "source": [
    "# Less than check - True\n",
    "my_favorite_number < 10"
   ]
  },
  {
   "cell_type": "code",
   "execution_count": 48,
   "id": "2aab3dd9-cdb4-44ec-97d5-97d57bd8f4c1",
   "metadata": {
    "tags": []
   },
   "outputs": [
    {
     "data": {
      "text/plain": [
       "False"
      ]
     },
     "execution_count": 48,
     "metadata": {},
     "output_type": "execute_result"
    }
   ],
   "source": [
    "# Less than check - False\n",
    "my_least_favorite_number < my_favorite_number"
   ]
  },
  {
   "cell_type": "markdown",
   "id": "e12c34bf-66b5-432d-98d1-95192c9bafb1",
   "metadata": {},
   "source": [
    "Tout comme les opérations arithmétiques, le résultat d'une opération de comparaison peut également être stocké dans une variable."
   ]
  },
  {
   "cell_type": "code",
   "execution_count": 50,
   "id": "2e9b898a-08bd-4cba-8a6e-1caa8cd88564",
   "metadata": {
    "tags": []
   },
   "outputs": [
    {
     "name": "stdout",
     "output_type": "stream",
     "text": [
      "Le sac à glace est-il cher ? False\n"
     ]
    }
   ],
   "source": [
    "cost_of_ice_bag = 1.25\n",
    "is_ice_bag_expensive = cost_of_ice_bag >=10\n",
    "print(\"Le sac à glace est-il cher ?\", is_ice_bag_expensive)"
   ]
  },
  {
   "cell_type": "markdown",
   "id": "d204bf11-d379-43b6-b478-fe5d63320b10",
   "metadata": {},
   "source": [
    "## Combiner des conditions avec des opérateurs logiques\n",
    "\n",
    "Les opérateurs logiques `et`, `ou` et `not` opèrent sur des conditions et des valeurs `Vrai` & `Faux` (aussi connues sous le nom de *booléennes*). Les opérateurs `et` et `ou` opèrent sur deux conditions, tandis que `non` opère sur une seule condition.\n",
    "\n",
    "L'opérateur `and` renvoie `True` lorsque les deux conditions sont évaluées à `True`. Sinon, il renvoie `Faux`.\n",
    "\n",
    "| `a`     | `b`    | `a and b` |\n",
    "|---------|--------|-----------|\n",
    "|  `True` | `True` | `True`    |\n",
    "|  `True` | `False`| `False`   |\n",
    "|  `False`| `True` | `False`   |\n",
    "|  `False`| `False`| `False`   |"
   ]
  },
  {
   "cell_type": "code",
   "execution_count": 51,
   "id": "6d1a5550-45cf-46f1-990c-c02706e4f4e4",
   "metadata": {
    "tags": []
   },
   "outputs": [
    {
     "data": {
      "text/plain": [
       "1"
      ]
     },
     "execution_count": 51,
     "metadata": {},
     "output_type": "execute_result"
    }
   ],
   "source": [
    "my_favorite_number"
   ]
  },
  {
   "cell_type": "code",
   "execution_count": 52,
   "id": "03074cf7-5916-4e6f-8d80-944190a9eeb8",
   "metadata": {
    "tags": []
   },
   "outputs": [
    {
     "data": {
      "text/plain": [
       "True"
      ]
     },
     "execution_count": 52,
     "metadata": {},
     "output_type": "execute_result"
    }
   ],
   "source": [
    "my_favorite_number > 0 and my_favorite_number <= 3"
   ]
  },
  {
   "cell_type": "code",
   "execution_count": 53,
   "id": "ff73717d-d1f4-4c73-ae17-b14ca3eb06cd",
   "metadata": {
    "tags": []
   },
   "outputs": [
    {
     "data": {
      "text/plain": [
       "False"
      ]
     },
     "execution_count": 53,
     "metadata": {},
     "output_type": "execute_result"
    }
   ],
   "source": [
    "my_favorite_number < 0 and my_favorite_number <= 3"
   ]
  },
  {
   "cell_type": "code",
   "execution_count": 54,
   "id": "2296863c-3ac1-467d-a3b0-3856d1e7750c",
   "metadata": {
    "tags": []
   },
   "outputs": [
    {
     "data": {
      "text/plain": [
       "False"
      ]
     },
     "execution_count": 54,
     "metadata": {},
     "output_type": "execute_result"
    }
   ],
   "source": [
    "my_favorite_number > 0 and my_favorite_number >= 3"
   ]
  },
  {
   "cell_type": "code",
   "execution_count": 55,
   "id": "8fccaa31-7e19-4c8b-b5db-c7c2cd005256",
   "metadata": {
    "tags": []
   },
   "outputs": [
    {
     "data": {
      "text/plain": [
       "False"
      ]
     },
     "execution_count": 55,
     "metadata": {},
     "output_type": "execute_result"
    }
   ],
   "source": [
    "True and False"
   ]
  },
  {
   "cell_type": "code",
   "execution_count": 57,
   "id": "672e0a9d-9c22-49a3-9f99-bc53fa59d896",
   "metadata": {
    "tags": []
   },
   "outputs": [
    {
     "data": {
      "text/plain": [
       "True"
      ]
     },
     "execution_count": 57,
     "metadata": {},
     "output_type": "execute_result"
    }
   ],
   "source": [
    "True and True"
   ]
  },
  {
   "cell_type": "markdown",
   "id": "a9922986-cc6a-4ed1-954e-087a5deef1c4",
   "metadata": {},
   "source": [
    "L'opérateur `ou` renvoie `Vrai` si au moins une des conditions est évaluée à `Vrai`. Il retourne `False` seulement si les deux conditions sont `False`.\n",
    "\n",
    "\n",
    "| `a`     | `b`    | `a or b`  |\n",
    "|---------|--------|-----------|\n",
    "|  `True` | `True` | `True`    |\n",
    "|  `True` | `False`| `True`    |\n",
    "|  `False`| `True` | `True`    |\n",
    "|  `False`| `False`| `False`   |\n"
   ]
  },
  {
   "cell_type": "code",
   "execution_count": 58,
   "id": "8538346b-e93a-4b3d-bdf8-85b9ca9edf14",
   "metadata": {
    "tags": []
   },
   "outputs": [],
   "source": [
    "a_neutral_number = 3"
   ]
  },
  {
   "cell_type": "code",
   "execution_count": 59,
   "id": "931c3c11-9a66-412f-a44a-7cb10e28a18a",
   "metadata": {
    "tags": []
   },
   "outputs": [
    {
     "data": {
      "text/plain": [
       "True"
      ]
     },
     "execution_count": 59,
     "metadata": {},
     "output_type": "execute_result"
    }
   ],
   "source": [
    "a_neutral_number == 3 or my_favorite_number < 0"
   ]
  },
  {
   "cell_type": "code",
   "execution_count": 60,
   "id": "fc6c5e19-0a79-44f6-8487-9741310b0b99",
   "metadata": {
    "tags": []
   },
   "outputs": [
    {
     "data": {
      "text/plain": [
       "False"
      ]
     },
     "execution_count": 60,
     "metadata": {},
     "output_type": "execute_result"
    }
   ],
   "source": [
    "a_neutral_number != 3 or my_favorite_number < 0"
   ]
  },
  {
   "cell_type": "code",
   "execution_count": 62,
   "id": "7d122a30-5558-47c3-bc65-73ff8e5457b7",
   "metadata": {
    "tags": []
   },
   "outputs": [
    {
     "data": {
      "text/plain": [
       "True"
      ]
     },
     "execution_count": 62,
     "metadata": {},
     "output_type": "execute_result"
    }
   ],
   "source": [
    "my_favorite_number < 0 or True"
   ]
  },
  {
   "cell_type": "markdown",
   "id": "43cdbf02-0123-4768-8a57-db4d80a16219",
   "metadata": {},
   "source": [
    "L'opérateur `not` renvoie `False` si une condition est `True` et `True` si la condition est `False`."
   ]
  },
  {
   "cell_type": "code",
   "execution_count": 63,
   "id": "eb390b66-c91a-4df5-94b9-92b7ace92173",
   "metadata": {
    "tags": []
   },
   "outputs": [
    {
     "data": {
      "text/plain": [
       "False"
      ]
     },
     "execution_count": 63,
     "metadata": {},
     "output_type": "execute_result"
    }
   ],
   "source": [
    "not a_neutral_number == 3"
   ]
  },
  {
   "cell_type": "code",
   "execution_count": 64,
   "id": "bf21ec02-2991-4875-a53d-b2eb9878a6d4",
   "metadata": {
    "tags": []
   },
   "outputs": [
    {
     "data": {
      "text/plain": [
       "True"
      ]
     },
     "execution_count": 64,
     "metadata": {},
     "output_type": "execute_result"
    }
   ],
   "source": [
    "not my_favorite_number < 0"
   ]
  },
  {
   "cell_type": "code",
   "execution_count": 65,
   "id": "d37c63bc-ab4d-4551-837e-410afabad30e",
   "metadata": {
    "tags": []
   },
   "outputs": [
    {
     "data": {
      "text/plain": [
       "True"
      ]
     },
     "execution_count": 65,
     "metadata": {},
     "output_type": "execute_result"
    }
   ],
   "source": [
    "not False"
   ]
  },
  {
   "cell_type": "code",
   "execution_count": 66,
   "id": "950687e8-8e05-4082-87e0-3e269adb0deb",
   "metadata": {
    "tags": []
   },
   "outputs": [
    {
     "data": {
      "text/plain": [
       "False"
      ]
     },
     "execution_count": 66,
     "metadata": {},
     "output_type": "execute_result"
    }
   ],
   "source": [
    "not True"
   ]
  },
  {
   "cell_type": "markdown",
   "id": "573fc6f7-e16a-4089-b769-685e349d4a4f",
   "metadata": {},
   "source": [
    "> Les opérateurs logiques peuvent être combinés pour former des conditions complexes. Utilisez des crochets ronds ou des parenthèses `(` et `)` pour indiquer l'ordre dans lequel les opérateurs logiques doivent être appliqués."
   ]
  },
  {
   "cell_type": "markdown",
   "id": "f61f59f5-26e4-4b88-b554-6e8a1bca8448",
   "metadata": {
    "tags": []
   },
   "source": [
    "## Spaak\n",
    "\n",
    "* **JJDJDJ**\n",
    "* DJDJDJ\n",
    "* DJDJDJ\n",
    "\n",
    "**Jobrigh**\n",
    "\n",
    "1. HHHDSHDSH\n",
    "2. RUURIIEIEZ\n",
    "3. JSJKDSJKDJ"
   ]
  },
  {
   "cell_type": "markdown",
   "id": "d42e3604-743e-4c91-9666-3d3c48d80858",
   "metadata": {},
   "source": [
    "Expérimentez les opérateurs arithmétiques, conditionnels et logiques en Python en utilisant la nature interactive des carnets Jupyter. Nous en apprendrons davantage sur les variables et les fonctions dans les prochains tutoriels.\n",
    "\n",
    "Il existe également un opérateur ternaire en Python. Découvrez-le ici : https://data-flair.training/blogs/python-ternary-operator/"
   ]
  },
  {
   "cell_type": "markdown",
   "id": "c899c863-8f81-4de2-9073-ad680a55d406",
   "metadata": {},
   "source": [
    "## Ajouter des styles de texte avec Markdown\n",
    "\n",
    "L'ajout d'explications à l'aide de cellules de texte (comme celle-ci) est un excellent moyen de rendre votre carnet de notes informatif pour les autres lecteurs. C'est également utile si vous avez besoin de vous y référer à l'avenir. Vous pouvez double-cliquer sur une cellule de texte dans Jupyter pour la modifier. En mode édition, vous remarquerez que le texte est légèrement différent (par exemple, l'en-tête a un préfixe `##`). Ce texte est écrit en Markdown, un moyen simple d'ajouter des styles à votre texte. Exécutez cette cellule pour voir le résultat sans les caractères spéciaux. Vous pouvez passer de la source à la sortie pour appliquer un style spécifique.\n",
    "\n",
    "Par exemple, vous pouvez utiliser un ou plusieurs caractères `#` en début de ligne pour créer des en-têtes de différentes tailles :\n",
    "\n",
    "# En-tête 1\n",
    "\n",
    "## En-tête 2\n",
    "\n",
    "### En-tête 3\n",
    "\n",
    "#### En-tête 4\n",
    "\n",
    "Pour créer une liste à puces ou une liste numérotée, il suffit de commencer une ligne par `*` ou `1.`.\n",
    "\n",
    "Une liste à puces :\n",
    "\n",
    "* Élément 1\n",
    "* Point 2\n",
    "* Élément 3\n",
    "\n",
    "Une liste numérotée :\n",
    "\n",
    "1. Pomme\n",
    "2. Banane\n",
    "3. Ananas\n",
    "\n",
    "Vous pouvez mettre du texte en gras en utilisant `**`, par exemple, **du texte en gras**, ou en italique en utilisant `*`, par exemple, *du texte en italique.* Vous pouvez également créer des liens, par exemple, [un lien](https://jovian.ai). Les images sont également faciles à intégrer :\n",
    "\n",
    "![](https://i.imgur.com/3gjZMYK.png)\n",
    "\n",
    "Une autre caractéristique très intéressante de Markdown est la possibilité d'inclure des blocs de code. Notez que les blocs de code à l'intérieur des cellules Markdown ne peuvent pas être exécutés.\n",
    "\n",
    "```\n",
    "# Effectuer les calculs nécessaires\n",
    "profit_par_sac = coût_du_sac * marge_de_profit\n",
    "bénéfice_total = nombre_de_sacs * bénéfice_par_sac\n",
    "\n",
    "# Afficher le résultat\n",
    "print(\"L'épicerie réalise un bénéfice total de $\", total_profit)\n",
    "\n",
    "```\n",
    "\n",
    "Vous pouvez apprendre la syntaxe complète de Markdown ici : https://learnxinyminutes.com/docs/markdown/"
   ]
  },
  {
   "cell_type": "code",
   "execution_count": null,
   "id": "49a9f40f-b76f-40ed-8411-8512a250ce39",
   "metadata": {},
   "outputs": [],
   "source": []
  }
 ],
 "metadata": {
  "kernelspec": {
   "display_name": "Python 3 (ipykernel)",
   "language": "python",
   "name": "python3"
  },
  "language_info": {
   "codemirror_mode": {
    "name": "ipython",
    "version": 3
   },
   "file_extension": ".py",
   "mimetype": "text/x-python",
   "name": "python",
   "nbconvert_exporter": "python",
   "pygments_lexer": "ipython3",
   "version": "3.11.4"
  }
 },
 "nbformat": 4,
 "nbformat_minor": 5
}
